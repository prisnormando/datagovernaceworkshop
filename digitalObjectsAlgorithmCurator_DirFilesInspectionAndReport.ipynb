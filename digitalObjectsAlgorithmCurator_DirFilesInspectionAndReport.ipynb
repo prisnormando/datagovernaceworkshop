{
  "nbformat": 4,
  "nbformat_minor": 0,
  "metadata": {
    "colab": {
      "provenance": [],
      "mount_file_id": "1yd_2y-5HGsIQgX94czAlUh_QVQGYXpS_",
      "authorship_tag": "ABX9TyMS0OJH6fbneiEGAwIzqTXD",
      "include_colab_link": true
    },
    "kernelspec": {
      "name": "python3",
      "display_name": "Python 3"
    },
    "language_info": {
      "name": "python"
    }
  },
  "cells": [
    {
      "cell_type": "markdown",
      "metadata": {
        "id": "view-in-github",
        "colab_type": "text"
      },
      "source": [
        "<a href=\"https://colab.research.google.com/github/prisnormando/basicpythonworkshop/blob/main/digitalObjectsAlgorithmCurator_DirFilesInspectionAndReport.ipynb\" target=\"_parent\"><img src=\"https://colab.research.google.com/assets/colab-badge.svg\" alt=\"Open In Colab\"/></a>"
      ]
    },
    {
      "cell_type": "markdown",
      "source": [
        "# Referências\n",
        "\n",
        "### Links\n",
        "https://docs.python.org/pt-br/3.11/whatsnew/3.11.html#operator\n",
        "https://www.w3schools.com/python/default.asp\n",
        "https://www.gov.br/cidadania/pt-br/servicos/sagi/microdados\n",
        "https://docs.dataprep.ai/index.html\n",
        "https://towardsdatascience.com/exploratory-data-analysis-in-python-a-step-by-step-process-d0dfa6bf94ee\n",
        "\n",
        "\n",
        "### Estrutura storage AESOP HPC\n",
        "* raw\n",
        "* refined\n",
        "* shared\n",
        "* transient\n",
        "* trusted\n",
        "\n",
        "nas pastas domínios de conhecimento\n",
        "\n",
        "### domínios de conhecimento\n",
        "* bioclimatico\n",
        "* clínica\n",
        "* metagenômica\n",
        "* midiasocial\n",
        "* modelagem\n",
        "* otc\n",
        "* socioeconomico\n",
        "\n"
      ],
      "metadata": {
        "id": "PT5ujhnaHC_w"
      }
    },
    {
      "cell_type": "markdown",
      "source": [
        "\n",
        "\n",
        "---\n",
        "\n"
      ],
      "metadata": {
        "id": "XHmLklQEHBqb"
      }
    },
    {
      "cell_type": "markdown",
      "source": [
        "# Inspeção das pastas do storage"
      ],
      "metadata": {
        "id": "p80CTbn6HEqO"
      }
    },
    {
      "cell_type": "markdown",
      "source": [
        "Importa os módulos para listagem e manipulação dos arquivos."
      ],
      "metadata": {
        "id": "Le2xDC9d8Xa-"
      }
    },
    {
      "cell_type": "code",
      "execution_count": null,
      "metadata": {
        "id": "xo2rV_231icf"
      },
      "outputs": [],
      "source": [
        "import os\n",
        "import time\n",
        "import pandas as pd\n",
        "import dataprep"
      ]
    },
    {
      "cell_type": "markdown",
      "source": [
        "Monta o diretório de arquivos (neste caso o Google Drive)."
      ],
      "metadata": {
        "id": "9752cs0rU4Oz"
      }
    },
    {
      "cell_type": "code",
      "source": [
        "from google.colab import drive\n",
        "drive.mount('/content/drive')"
      ],
      "metadata": {
        "id": "b5FByyBmaiYi"
      },
      "execution_count": null,
      "outputs": []
    },
    {
      "cell_type": "markdown",
      "source": [
        "Verifica o diretório atual"
      ],
      "metadata": {
        "id": "9o5piHNW8f5S"
      }
    },
    {
      "cell_type": "code",
      "source": [
        "print(os.getcwd())"
      ],
      "metadata": {
        "id": "7Lubn2tVA94a"
      },
      "execution_count": null,
      "outputs": []
    },
    {
      "cell_type": "markdown",
      "source": [
        "Cria uma lista com os diretório e arquivos de acordo com o caminho indicado na variável 'start_path'."
      ],
      "metadata": {
        "id": "wZ_R3nw8VEub"
      }
    },
    {
      "cell_type": "code",
      "source": [
        "def list_files(startpath):\n",
        "    report = \"<html>\\n<head>\\n<title>Relatório de diretórios e arquivos</title>\\n</head>\\n<body>\\n<h1>Relatório de diretórios e arquivos</h1>\\n<ul>\"\n",
        "    for root, dirs, files in os.walk(startpath):\n",
        "        report += \"<li>\" + os.path.basename(root) + \"/\\n<ul>\"\n",
        "        for d in dirs:\n",
        "            report += \"<li>\" + d + \"/</li>\"\n",
        "        for f in files:\n",
        "            report += \"<li>\" + f + \"</li>\"\n",
        "        report += \"</ul></li>\"\n",
        "    report += \"</ul>\\n</body>\\n</html>\"\n",
        "    return report\n",
        "\n",
        "start_path = '/content/drive/MyDrive/Empresa/Doutora/eventos'\n",
        "report = list_files(start_path)\n",
        "\n",
        "with open(\"report.html\", \"w\") as f:\n",
        "    f.write(report)\n"
      ],
      "metadata": {
        "id": "2oB5r4BPGRZY"
      },
      "execution_count": null,
      "outputs": []
    },
    {
      "cell_type": "markdown",
      "source": [
        "Cria um relatório HTML com os diretórios e arquivos de acordo com o caminho indicado na variável 'start_path'."
      ],
      "metadata": {
        "id": "xP1SQAJnVfAt"
      }
    },
    {
      "cell_type": "code",
      "source": [
        "def list_files(startpath):\n",
        "    for root, dirs, files in os.walk(startpath):\n",
        "        level = root.replace(startpath, '').count(os.sep)\n",
        "        indent = ' ' * 4 * (level)\n",
        "        print('{}{}/'.format(indent, os.path.basename(root)))\n",
        "        subindent = ' ' * 4 * (level + 1)\n",
        "        for f in files:\n",
        "            print('{}{}'.format(subindent, f))\n",
        "\n",
        "start_path = '/'\n",
        "lista = list_files(start_path)\n",
        "print(lista)"
      ],
      "metadata": {
        "id": "cl57vAe_ErP5"
      },
      "execution_count": null,
      "outputs": []
    },
    {
      "cell_type": "markdown",
      "source": [
        "#Metadados dos objetos digitais\n",
        "\n",
        "Este script seleciona as pastas e arquivos em um caminho indicado, extrai os metadados dos arquivos e, em seguida, cria uma relatório HTML."
      ],
      "metadata": {
        "id": "5ydXmcUOHRkn"
      }
    },
    {
      "cell_type": "code",
      "source": [
        "def get_file_info(file_path):\n",
        "    stat = os.stat(file_path)\n",
        "    creation_time = time.ctime(stat.st_ctime)\n",
        "    modification_time = time.ctime(stat.st_mtime)\n",
        "    size = stat.st_size\n",
        "    return (creation_time, modification_time, size)\n",
        "\n",
        "def list_files(startpath):\n",
        "    report = \"<html>\\n<head>\\n<title>Relatório de diretórios e arquivos</title>\\n<style>\\n\"\n",
        "    report += \"ul { list-style-type: none; }\\n\"\n",
        "    report += \"li span {\\n  display: inline-block;\\n  width: 200px;\\n}\\n\"\n",
        "    report += \"li {\\n  margin-bottom: 10px;\\n}\\n\"\n",
        "    report += \"</style>\\n</head>\\n<body>\\n<h1>Relatório de diretórios e arquivos</h1>\\n<ul>\"\n",
        "    for root, dirs, files in os.walk(startpath):\n",
        "        report += \"<li><span>\" + os.path.basename(root) + \"/</span>\\n\"\n",
        "        report += \"<ul>\"\n",
        "        for d in dirs:\n",
        "            dir_path = os.path.join(root, d)\n",
        "            creation_time, modification_time, size = get_file_info(dir_path)\n",
        "            report += \"<li><span>\" + d + \"/</span>\\n\"\n",
        "            report += \"<ul><li><span>Criado em: </span>\" + creation_time + \"</li>\"\n",
        "            report += \"<li><span>Modificado em: </span>\" + modification_time + \"</li>\"\n",
        "            report += \"<li><span>Tamanho da pasta: </span>\" + str(size) + \" bytes</li></ul></li>\"\n",
        "        for f in files:\n",
        "            file_path = os.path.join(root, f)\n",
        "            creation_time, modification_time, size = get_file_info(file_path)\n",
        "            ext = os.path.splitext(f)[1]\n",
        "            report += \"<li><span>\" + f + \"</span>\\n\"\n",
        "            report += \"<ul><li><span>Criado em: </span>\" + creation_time + \"</li>\"\n",
        "            report += \"<li><span>Modificado em: </span>\" + modification_time + \"</li>\"\n",
        "            report += \"<li><span>Tamanho do arquivo: </span>\" + str(size) + \" bytes</li>\"\n",
        "            report += \"<li><span>Extensão: </span>\" + ext + \"</li></ul></li>\"\n",
        "        report += \"</ul></li>\"\n",
        "    report += \"</ul>\\n</body>\\n</html>\"\n",
        "    return report\n",
        "\n",
        "start_path = '/sample_data'\n",
        "report = list_files(start_path)\n",
        "with open(\"report.html\", \"w\") as f:\n",
        "    f.write(report)\n"
      ],
      "metadata": {
        "id": "YWnxX-DoI1Uu"
      },
      "execution_count": null,
      "outputs": []
    },
    {
      "cell_type": "markdown",
      "source": [
        "#Relatório a partir da listagem realizada via Bash\n",
        "\n",
        "autor: Eric Maia - Engenheiro de dados (Membro da curadoria do Cidacs)\n",
        "\n",
        "O script toma a listagem padrão criada a partir do comando 'ls' sobre um caminho de pastas (árvore) no Windows.\n",
        "\n",
        "Em seguida, os dados tratados são exportados para Excel."
      ],
      "metadata": {
        "id": "Yw_-iOoaUF_c"
      }
    },
    {
      "cell_type": "code",
      "source": [
        "# Caminho do arquivo no drive\n",
        "caminho = '/content/drive/MyDrive/Robespierre/Curadoria/'\n",
        "arquivo = 'MapeamentoParaTeste.csv'\n",
        "\n",
        "\n",
        "# Codificação da leitura padrão é utf-8, \n",
        "# mas observou-se, no notepad, que a codificação deste é utf-16\n",
        "f = open(caminho+arquivo,encoding='utf-16') # Lê o arquivo em utf-16\n",
        "\n",
        "# Quebra o arquivo em uma lista de linhas\n",
        "linhas = f.readlines()"
      ],
      "metadata": {
        "id": "qrWg3eBIbONV"
      },
      "execution_count": null,
      "outputs": []
    },
    {
      "cell_type": "code",
      "source": [
        "# Cria lista\n",
        "lista = []\n",
        "\n",
        "for linha in linhas: # Lê cada linha\n",
        "  if linha.isspace():\n",
        "    try:\n",
        "      if dict_pasta: # testa se já existe um dicionário com as informações da última pasta lida\n",
        "        lista.append(dict_pasta) # adiciona à lista      \n",
        "        del dict_pasta # exclui\n",
        "    except:\n",
        "      continue\n",
        "\n",
        "  if linha.startswith('    Diretório: '): # verifica se contem caminho de diretório\n",
        "    diretorio = linha.replace('\\n','').split('Diretório: ')[-1] # remove quebra de linha e extrai apenas o caminho\n",
        "    continue\n",
        "\n",
        "  if linha.startswith('Mode'): # verifica se é cabeçalho do conteúdo da pasta\n",
        "    cabecalho = linha.split() # extrai cada rótulo do cabeçalho que será chave do conteúdo no dicionário\n",
        "\n",
        "    dict_pasta = {} # cria um novo dicionário pra armazenar informações da pasta\n",
        "    dict_pasta['diretorio'] = diretorio # cria chave diretorio no dicionario e salva o caminho do diretório\n",
        "    continue\n",
        "\n",
        "  if (linha.startswith('-a-') | linha.startswith('d--')): # verifica se é linha de informação do conteúdo\n",
        "    conteudo = linha.split()\n",
        "    \n",
        "    # verifica se linha quebrou em espaços no nome do arquivo e rejunta o nome\n",
        "    if len(conteudo) > 4:\n",
        "      conteudo = [conteudo[0],' '.join(conteudo[1:3]),conteudo[3],' '.join(conteudo[4:])]\n",
        "\n",
        "    # pra cada item da linha, cria uma chave com o nome encontrado no cabeçalho e preenche com o conteúdo\n",
        "    for i,item in enumerate(conteudo): \n",
        "      dict_pasta[cabecalho[i]] = item\n",
        "    # dict_pasta['conteudo'].append(dict_conteudo) # adiciona na lista de conteúdo da pasta\n",
        "    continue\n",
        "\n",
        "  else: \n",
        "    continue"
      ],
      "metadata": {
        "id": "xCbtbgmubb8d"
      },
      "execution_count": null,
      "outputs": []
    },
    {
      "cell_type": "code",
      "source": [
        "len(lista)"
      ],
      "metadata": {
        "id": "DTUhueDf7eBp",
        "colab": {
          "base_uri": "https://localhost:8080/"
        },
        "outputId": "62f02458-ce64-4358-d453-024f168c090d"
      },
      "execution_count": null,
      "outputs": [
        {
          "output_type": "execute_result",
          "data": {
            "text/plain": [
              "61"
            ]
          },
          "metadata": {},
          "execution_count": 18
        }
      ]
    },
    {
      "cell_type": "code",
      "source": [
        "df = pd.DataFrame(lista)\n",
        "df.to_csv(caminho+'MapeamentoTratado.csv',index=False)\n",
        "df.to_excel(caminho+'MapeamentoTratado.xlsx',index=False)\n",
        "df"
      ],
      "metadata": {
        "id": "dAyu9ZiE3Ncc",
        "colab": {
          "base_uri": "https://localhost:8080/",
          "height": 424
        },
        "outputId": "5bdd03a9-4112-4183-e543-7ccd81d15757"
      },
      "execution_count": null,
      "outputs": [
        {
          "output_type": "execute_result",
          "data": {
            "text/plain": [
              "                                            diretorio    Mode  \\\n",
              "0                        C:\\Users\\luiz.farias\\Desktop  -a----   \n",
              "1          C:\\Users\\luiz.farias\\Desktop\\Apresentações  -a----   \n",
              "2   C:\\Users\\luiz.farias\\Desktop\\backup luiz 12052022     NaN   \n",
              "3   C:\\Users\\luiz.farias\\Desktop\\backup luiz 12052...  -a----   \n",
              "4   C:\\Users\\luiz.farias\\Desktop\\backup luiz 12052...  -a----   \n",
              "..                                                ...     ...   \n",
              "56          C:\\Users\\luiz.farias\\Desktop\\teste\\themes  -a----   \n",
              "57         C:\\Users\\luiz.farias\\Desktop\\teste\\updater  -a----   \n",
              "58  C:\\Users\\luiz.farias\\Desktop\\teste\\userDefineL...  -a----   \n",
              "59                C:\\Users\\luiz.farias\\Desktop\\Textos  -a----   \n",
              "60      C:\\Users\\luiz.farias\\Desktop\\Trees_Omolu_Nana  -a----   \n",
              "\n",
              "       LastWriteTime  Length  \\\n",
              "0   26/05/2022 13:33    2483   \n",
              "1   08/08/2022 10:28  872269   \n",
              "2                NaN     NaN   \n",
              "3   16/12/2021 09:27   64559   \n",
              "4   21/02/2022 10:40  284532   \n",
              "..               ...     ...   \n",
              "56  20/06/2022 10:31  175205   \n",
              "57  27/03/2022 16:05  133872   \n",
              "58  05/10/2021 19:39    6439   \n",
              "59  21/07/2022 10:45  376427   \n",
              "60  20/05/2021 17:04   17921   \n",
              "\n",
              "                                                 Name  \n",
              "0                                            Word.lnk  \n",
              "1   TED 159 Perguntas Proposta Seminário Interno....  \n",
              "2                                                 NaN  \n",
              "3             [Entrada]_Arquivos_NPD_-_16_12_2021.zip  \n",
              "4                                              5.jpeg  \n",
              "..                                                ...  \n",
              "56                                        Zenburn.xml  \n",
              "57                                        updater.ico  \n",
              "58                  markdown._preinstalled_DM.udl.xml  \n",
              "59  Textualização apresentação setor de Curadoria....  \n",
              "60                                   omolu-qnap60.csv  \n",
              "\n",
              "[61 rows x 5 columns]"
            ],
            "text/html": [
              "\n",
              "  <div id=\"df-ee30525b-0172-45a2-abec-33c2eaf0f69d\">\n",
              "    <div class=\"colab-df-container\">\n",
              "      <div>\n",
              "<style scoped>\n",
              "    .dataframe tbody tr th:only-of-type {\n",
              "        vertical-align: middle;\n",
              "    }\n",
              "\n",
              "    .dataframe tbody tr th {\n",
              "        vertical-align: top;\n",
              "    }\n",
              "\n",
              "    .dataframe thead th {\n",
              "        text-align: right;\n",
              "    }\n",
              "</style>\n",
              "<table border=\"1\" class=\"dataframe\">\n",
              "  <thead>\n",
              "    <tr style=\"text-align: right;\">\n",
              "      <th></th>\n",
              "      <th>diretorio</th>\n",
              "      <th>Mode</th>\n",
              "      <th>LastWriteTime</th>\n",
              "      <th>Length</th>\n",
              "      <th>Name</th>\n",
              "    </tr>\n",
              "  </thead>\n",
              "  <tbody>\n",
              "    <tr>\n",
              "      <th>0</th>\n",
              "      <td>C:\\Users\\luiz.farias\\Desktop</td>\n",
              "      <td>-a----</td>\n",
              "      <td>26/05/2022 13:33</td>\n",
              "      <td>2483</td>\n",
              "      <td>Word.lnk</td>\n",
              "    </tr>\n",
              "    <tr>\n",
              "      <th>1</th>\n",
              "      <td>C:\\Users\\luiz.farias\\Desktop\\Apresentações</td>\n",
              "      <td>-a----</td>\n",
              "      <td>08/08/2022 10:28</td>\n",
              "      <td>872269</td>\n",
              "      <td>TED 159 Perguntas Proposta Seminário Interno....</td>\n",
              "    </tr>\n",
              "    <tr>\n",
              "      <th>2</th>\n",
              "      <td>C:\\Users\\luiz.farias\\Desktop\\backup luiz 12052022</td>\n",
              "      <td>NaN</td>\n",
              "      <td>NaN</td>\n",
              "      <td>NaN</td>\n",
              "      <td>NaN</td>\n",
              "    </tr>\n",
              "    <tr>\n",
              "      <th>3</th>\n",
              "      <td>C:\\Users\\luiz.farias\\Desktop\\backup luiz 12052...</td>\n",
              "      <td>-a----</td>\n",
              "      <td>16/12/2021 09:27</td>\n",
              "      <td>64559</td>\n",
              "      <td>[Entrada]_Arquivos_NPD_-_16_12_2021.zip</td>\n",
              "    </tr>\n",
              "    <tr>\n",
              "      <th>4</th>\n",
              "      <td>C:\\Users\\luiz.farias\\Desktop\\backup luiz 12052...</td>\n",
              "      <td>-a----</td>\n",
              "      <td>21/02/2022 10:40</td>\n",
              "      <td>284532</td>\n",
              "      <td>5.jpeg</td>\n",
              "    </tr>\n",
              "    <tr>\n",
              "      <th>...</th>\n",
              "      <td>...</td>\n",
              "      <td>...</td>\n",
              "      <td>...</td>\n",
              "      <td>...</td>\n",
              "      <td>...</td>\n",
              "    </tr>\n",
              "    <tr>\n",
              "      <th>56</th>\n",
              "      <td>C:\\Users\\luiz.farias\\Desktop\\teste\\themes</td>\n",
              "      <td>-a----</td>\n",
              "      <td>20/06/2022 10:31</td>\n",
              "      <td>175205</td>\n",
              "      <td>Zenburn.xml</td>\n",
              "    </tr>\n",
              "    <tr>\n",
              "      <th>57</th>\n",
              "      <td>C:\\Users\\luiz.farias\\Desktop\\teste\\updater</td>\n",
              "      <td>-a----</td>\n",
              "      <td>27/03/2022 16:05</td>\n",
              "      <td>133872</td>\n",
              "      <td>updater.ico</td>\n",
              "    </tr>\n",
              "    <tr>\n",
              "      <th>58</th>\n",
              "      <td>C:\\Users\\luiz.farias\\Desktop\\teste\\userDefineL...</td>\n",
              "      <td>-a----</td>\n",
              "      <td>05/10/2021 19:39</td>\n",
              "      <td>6439</td>\n",
              "      <td>markdown._preinstalled_DM.udl.xml</td>\n",
              "    </tr>\n",
              "    <tr>\n",
              "      <th>59</th>\n",
              "      <td>C:\\Users\\luiz.farias\\Desktop\\Textos</td>\n",
              "      <td>-a----</td>\n",
              "      <td>21/07/2022 10:45</td>\n",
              "      <td>376427</td>\n",
              "      <td>Textualização apresentação setor de Curadoria....</td>\n",
              "    </tr>\n",
              "    <tr>\n",
              "      <th>60</th>\n",
              "      <td>C:\\Users\\luiz.farias\\Desktop\\Trees_Omolu_Nana</td>\n",
              "      <td>-a----</td>\n",
              "      <td>20/05/2021 17:04</td>\n",
              "      <td>17921</td>\n",
              "      <td>omolu-qnap60.csv</td>\n",
              "    </tr>\n",
              "  </tbody>\n",
              "</table>\n",
              "<p>61 rows × 5 columns</p>\n",
              "</div>\n",
              "      <button class=\"colab-df-convert\" onclick=\"convertToInteractive('df-ee30525b-0172-45a2-abec-33c2eaf0f69d')\"\n",
              "              title=\"Convert this dataframe to an interactive table.\"\n",
              "              style=\"display:none;\">\n",
              "        \n",
              "  <svg xmlns=\"http://www.w3.org/2000/svg\" height=\"24px\"viewBox=\"0 0 24 24\"\n",
              "       width=\"24px\">\n",
              "    <path d=\"M0 0h24v24H0V0z\" fill=\"none\"/>\n",
              "    <path d=\"M18.56 5.44l.94 2.06.94-2.06 2.06-.94-2.06-.94-.94-2.06-.94 2.06-2.06.94zm-11 1L8.5 8.5l.94-2.06 2.06-.94-2.06-.94L8.5 2.5l-.94 2.06-2.06.94zm10 10l.94 2.06.94-2.06 2.06-.94-2.06-.94-.94-2.06-.94 2.06-2.06.94z\"/><path d=\"M17.41 7.96l-1.37-1.37c-.4-.4-.92-.59-1.43-.59-.52 0-1.04.2-1.43.59L10.3 9.45l-7.72 7.72c-.78.78-.78 2.05 0 2.83L4 21.41c.39.39.9.59 1.41.59.51 0 1.02-.2 1.41-.59l7.78-7.78 2.81-2.81c.8-.78.8-2.07 0-2.86zM5.41 20L4 18.59l7.72-7.72 1.47 1.35L5.41 20z\"/>\n",
              "  </svg>\n",
              "      </button>\n",
              "      \n",
              "  <style>\n",
              "    .colab-df-container {\n",
              "      display:flex;\n",
              "      flex-wrap:wrap;\n",
              "      gap: 12px;\n",
              "    }\n",
              "\n",
              "    .colab-df-convert {\n",
              "      background-color: #E8F0FE;\n",
              "      border: none;\n",
              "      border-radius: 50%;\n",
              "      cursor: pointer;\n",
              "      display: none;\n",
              "      fill: #1967D2;\n",
              "      height: 32px;\n",
              "      padding: 0 0 0 0;\n",
              "      width: 32px;\n",
              "    }\n",
              "\n",
              "    .colab-df-convert:hover {\n",
              "      background-color: #E2EBFA;\n",
              "      box-shadow: 0px 1px 2px rgba(60, 64, 67, 0.3), 0px 1px 3px 1px rgba(60, 64, 67, 0.15);\n",
              "      fill: #174EA6;\n",
              "    }\n",
              "\n",
              "    [theme=dark] .colab-df-convert {\n",
              "      background-color: #3B4455;\n",
              "      fill: #D2E3FC;\n",
              "    }\n",
              "\n",
              "    [theme=dark] .colab-df-convert:hover {\n",
              "      background-color: #434B5C;\n",
              "      box-shadow: 0px 1px 3px 1px rgba(0, 0, 0, 0.15);\n",
              "      filter: drop-shadow(0px 1px 2px rgba(0, 0, 0, 0.3));\n",
              "      fill: #FFFFFF;\n",
              "    }\n",
              "  </style>\n",
              "\n",
              "      <script>\n",
              "        const buttonEl =\n",
              "          document.querySelector('#df-ee30525b-0172-45a2-abec-33c2eaf0f69d button.colab-df-convert');\n",
              "        buttonEl.style.display =\n",
              "          google.colab.kernel.accessAllowed ? 'block' : 'none';\n",
              "\n",
              "        async function convertToInteractive(key) {\n",
              "          const element = document.querySelector('#df-ee30525b-0172-45a2-abec-33c2eaf0f69d');\n",
              "          const dataTable =\n",
              "            await google.colab.kernel.invokeFunction('convertToInteractive',\n",
              "                                                     [key], {});\n",
              "          if (!dataTable) return;\n",
              "\n",
              "          const docLinkHtml = 'Like what you see? Visit the ' +\n",
              "            '<a target=\"_blank\" href=https://colab.research.google.com/notebooks/data_table.ipynb>data table notebook</a>'\n",
              "            + ' to learn more about interactive tables.';\n",
              "          element.innerHTML = '';\n",
              "          dataTable['output_type'] = 'display_data';\n",
              "          await google.colab.output.renderOutput(dataTable, element);\n",
              "          const docLink = document.createElement('div');\n",
              "          docLink.innerHTML = docLinkHtml;\n",
              "          element.appendChild(docLink);\n",
              "        }\n",
              "      </script>\n",
              "    </div>\n",
              "  </div>\n",
              "  "
            ]
          },
          "metadata": {},
          "execution_count": 17
        }
      ]
    },
    {
      "cell_type": "markdown",
      "source": [
        "# Análise Exploratória dos Dados nos Arquivos\n",
        "\n",
        "### Passos\n",
        "\n",
        "1. Importing a dataset\n",
        "2. Understanding the big picture\n",
        "3. Preparation\n",
        "4. Understanding of variables\n",
        "5. Study of the relationships between variables\n",
        "6. Brainstorming\n",
        "7. Report\n",
        "8. Clean\n",
        "9. Harmonize\n",
        "10. Modeling"
      ],
      "metadata": {
        "id": "F-uH82bfG2HW"
      }
    },
    {
      "cell_type": "markdown",
      "source": [
        "Carregar o arquivo na pasta"
      ],
      "metadata": {
        "id": "2jmPiAeuHbGw"
      }
    },
    {
      "cell_type": "code",
      "source": [
        "#Load the required libraries\n",
        "# data manipulation\n",
        "import pandas as pd\n",
        "import numpy as np\n",
        "\n",
        "# data viz\n",
        "import matplotlib.pyplot as plt\n",
        "from matplotlib import rcParams\n",
        "import seaborn as sns\n",
        "\n",
        "# apply some cool styling\n",
        "plt.style.use(\"ggplot\")\n",
        "rcParams['figure.figsize'] = (12,  6)\n",
        "\n",
        "# use sklearn to import a dataset\n",
        "from sklearn.datasets import load_wine"
      ],
      "metadata": {
        "id": "M4wXIlvGHhH5"
      },
      "execution_count": null,
      "outputs": []
    },
    {
      "cell_type": "code",
      "source": [
        "#variavel\n",
        "wine = load_wine()\n",
        "\n",
        "#Load the data\n",
        "df = pd.read_csv('titanic.csv')\n",
        "\n",
        "#View the data\n",
        "df.head()"
      ],
      "metadata": {
        "id": "m5HINQZ-LcP0"
      },
      "execution_count": null,
      "outputs": []
    },
    {
      "cell_type": "markdown",
      "source": [
        "Informações básicas sobre a base"
      ],
      "metadata": {
        "id": "XSHH9T9sHkwa"
      }
    },
    {
      "cell_type": "code",
      "source": [
        "#Basic information\n",
        "\n",
        "df.info()\n",
        "\n",
        "#Describe the data\n",
        "\n",
        "df.describe()"
      ],
      "metadata": {
        "id": "1AQcyAgTJXb_"
      },
      "execution_count": null,
      "outputs": []
    },
    {
      "cell_type": "markdown",
      "source": [
        "Valores duplicados"
      ],
      "metadata": {
        "id": "FaF7_7_-HoJZ"
      }
    },
    {
      "cell_type": "code",
      "source": [
        "#Find the duplicates\n",
        "\n",
        "df.duplicated().sum()\n",
        ".isduplicated().sum()\n"
      ],
      "metadata": {
        "id": "KauWeKDXHrGg"
      },
      "execution_count": null,
      "outputs": []
    },
    {
      "cell_type": "markdown",
      "source": [
        "Valores únicos"
      ],
      "metadata": {
        "id": "1GxQnBGnHto6"
      }
    },
    {
      "cell_type": "code",
      "source": [
        "#unique values\n",
        "\n",
        "df['Pclass'].unique()\n",
        "\n",
        "df['Survived'].unique()\n",
        "\n",
        "df['Sex'].unique()"
      ],
      "metadata": {
        "id": "kI9sVgA0Hvra"
      },
      "execution_count": null,
      "outputs": []
    },
    {
      "cell_type": "code",
      "source": [
        "#Plot the unique values\n",
        "\n",
        "sns.countplot(df['Pclass']).unique()"
      ],
      "metadata": {
        "id": "b3-NU3SEH6a6"
      },
      "execution_count": null,
      "outputs": []
    },
    {
      "cell_type": "markdown",
      "source": [
        "Valores nulos"
      ],
      "metadata": {
        "id": "0njyyOz9H3cB"
      }
    },
    {
      "cell_type": "code",
      "source": [
        "#Find null values\n",
        "\n",
        "df.isnull().sum()"
      ],
      "metadata": {
        "id": "5KlopdlVIApa"
      },
      "execution_count": null,
      "outputs": []
    },
    {
      "cell_type": "markdown",
      "source": [
        "Substituição dos nulos"
      ],
      "metadata": {
        "id": "jp5CrK_WID6i"
      }
    },
    {
      "cell_type": "code",
      "source": [
        "#Replace null values\n",
        "\n",
        "df.replace(np.nan,'0',inplace = True)\n",
        "\n",
        "#Check the changes now\n",
        "df.isnull().sum()"
      ],
      "metadata": {
        "id": "3XuTXsSXIIM7"
      },
      "execution_count": null,
      "outputs": []
    },
    {
      "cell_type": "markdown",
      "source": [
        "Tipos de dados"
      ],
      "metadata": {
        "id": "Ylt3UJhcIRqr"
      }
    },
    {
      "cell_type": "code",
      "source": [
        "#Datatypes\n",
        "\n",
        "df.dtypes"
      ],
      "metadata": {
        "id": "fBK_G1rMISxa"
      },
      "execution_count": null,
      "outputs": []
    },
    {
      "cell_type": "markdown",
      "source": [
        "Filtrar os dados"
      ],
      "metadata": {
        "id": "_jEL9XfOIW1E"
      }
    },
    {
      "cell_type": "code",
      "source": [
        "#Filter data\n",
        "\n",
        "df[df['Pclass']==1].head()"
      ],
      "metadata": {
        "id": "TgWllox6IYSr"
      },
      "execution_count": null,
      "outputs": []
    },
    {
      "cell_type": "markdown",
      "source": [
        "Boxplot"
      ],
      "metadata": {
        "id": "wf20MEauIeAS"
      }
    },
    {
      "cell_type": "code",
      "source": [
        "#Boxplot\n",
        "\n",
        "df[['Fare']].boxplot()\n",
        "\n",
        "df.target.value_counts().plot(kind=\"bar\")\n",
        "plt.title(\"Value counts of the target variable\")\n",
        "plt.xlabel(\"Wine type\")\n",
        "plt.xticks(rotation=0)\n",
        "plt.ylabel(\"Count\")\n",
        "plt.show()"
      ],
      "metadata": {
        "id": "3jGYT147IfGk"
      },
      "execution_count": null,
      "outputs": []
    },
    {
      "cell_type": "code",
      "source": [
        "print(f\"Skewness: {df['magnesium'].skew()}\")\n",
        "print(f\"Kurtosis: {df['magnesium'].kurt()}\")"
      ],
      "metadata": {
        "id": "TXizhidlYiFw"
      },
      "execution_count": null,
      "outputs": []
    },
    {
      "cell_type": "markdown",
      "source": [
        "Correlação"
      ],
      "metadata": {
        "id": "IInrMaMUIhqL"
      }
    },
    {
      "cell_type": "code",
      "source": [
        "#Correlation \n",
        "\n",
        "df.corr()"
      ],
      "metadata": {
        "id": "ZAa_JDIgIjz0"
      },
      "execution_count": null,
      "outputs": []
    },
    {
      "cell_type": "code",
      "source": [
        "#Correlation plot\n",
        "\n",
        "sns.heatmap(df.corr())\n",
        "\n",
        "sns.catplot(x=\"target\", y=\"proline\", data=df, kind=\"box\", aspect=1.5)\n",
        "plt.title(\"Boxplot for target vs proline\")\n",
        "plt.show()\n",
        "\n",
        "sns.scatterplot(x=\"proline\", y=\"flavanoids\", hue=\"target\", data=df, palette=\"Dark2\", s=80)\n",
        "plt.title(\"Relationship between proline, flavanoids and target\")\n",
        "plt.show()\n",
        "\n",
        "corrmat = df.corr()\n",
        "hm = sns.heatmap(corrmat, \n",
        "                 cbar=True, \n",
        "                 annot=True, \n",
        "                 square=True, \n",
        "                 fmt='.2f', \n",
        "                 annot_kws={'size': 10}, \n",
        "                 yticklabels=df.columns, \n",
        "                 xticklabels=df.columns, \n",
        "                 cmap=\"Spectral_r\")\n",
        "plt.show()"
      ],
      "metadata": {
        "id": "-ScVZ_60Il-r"
      },
      "execution_count": null,
      "outputs": []
    },
    {
      "cell_type": "markdown",
      "source": [
        "# Limpeza"
      ],
      "metadata": {
        "id": "_R_ByYXDXfil"
      }
    },
    {
      "cell_type": "markdown",
      "source": [
        "Renomear variáveis"
      ],
      "metadata": {
        "id": "4oVeKUhGXjVN"
      }
    },
    {
      "cell_type": "markdown",
      "source": [
        "df.rename(columns={\"od280/od315_of_diluted_wines\": \"protein_concentration\"}, inplace=True)"
      ],
      "metadata": {
        "id": "qfgxFVOLXhZd"
      }
    }
  ]
}